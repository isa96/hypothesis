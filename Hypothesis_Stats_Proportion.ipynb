{
 "cells": [
  {
   "cell_type": "code",
   "execution_count": 1,
   "id": "25714e22-3a4b-4561-b711-1bcaeaf9d649",
   "metadata": {},
   "outputs": [],
   "source": [
    "import pandas as pd\n",
    "import numpy as np"
   ]
  },
  {
   "cell_type": "code",
   "execution_count": 2,
   "id": "57db3839-3492-4848-8813-b387c4c60d20",
   "metadata": {},
   "outputs": [
    {
     "data": {
      "text/html": [
       "<div>\n",
       "<style scoped>\n",
       "    .dataframe tbody tr th:only-of-type {\n",
       "        vertical-align: middle;\n",
       "    }\n",
       "\n",
       "    .dataframe tbody tr th {\n",
       "        vertical-align: top;\n",
       "    }\n",
       "\n",
       "    .dataframe thead th {\n",
       "        text-align: right;\n",
       "    }\n",
       "</style>\n",
       "<table border=\"1\" class=\"dataframe\">\n",
       "  <thead>\n",
       "    <tr style=\"text-align: right;\">\n",
       "      <th></th>\n",
       "      <th>Name</th>\n",
       "      <th>Author</th>\n",
       "      <th>User Rating</th>\n",
       "      <th>Reviews</th>\n",
       "      <th>Price</th>\n",
       "      <th>Year</th>\n",
       "      <th>Genre</th>\n",
       "    </tr>\n",
       "  </thead>\n",
       "  <tbody>\n",
       "    <tr>\n",
       "      <th>0</th>\n",
       "      <td>10-Day Green Smoothie Cleanse</td>\n",
       "      <td>JJ Smith</td>\n",
       "      <td>4.7</td>\n",
       "      <td>17350</td>\n",
       "      <td>8</td>\n",
       "      <td>2016</td>\n",
       "      <td>Non Fiction</td>\n",
       "    </tr>\n",
       "    <tr>\n",
       "      <th>1</th>\n",
       "      <td>11/22/63: A Novel</td>\n",
       "      <td>Stephen King</td>\n",
       "      <td>4.6</td>\n",
       "      <td>2052</td>\n",
       "      <td>22</td>\n",
       "      <td>2011</td>\n",
       "      <td>Fiction</td>\n",
       "    </tr>\n",
       "    <tr>\n",
       "      <th>2</th>\n",
       "      <td>12 Rules for Life: An Antidote to Chaos</td>\n",
       "      <td>Jordan B. Peterson</td>\n",
       "      <td>4.7</td>\n",
       "      <td>18979</td>\n",
       "      <td>15</td>\n",
       "      <td>2018</td>\n",
       "      <td>Non Fiction</td>\n",
       "    </tr>\n",
       "    <tr>\n",
       "      <th>3</th>\n",
       "      <td>1984 (Signet Classics)</td>\n",
       "      <td>George Orwell</td>\n",
       "      <td>4.7</td>\n",
       "      <td>21424</td>\n",
       "      <td>6</td>\n",
       "      <td>2017</td>\n",
       "      <td>Fiction</td>\n",
       "    </tr>\n",
       "    <tr>\n",
       "      <th>4</th>\n",
       "      <td>5,000 Awesome Facts (About Everything!) (Natio...</td>\n",
       "      <td>National Geographic Kids</td>\n",
       "      <td>4.8</td>\n",
       "      <td>7665</td>\n",
       "      <td>12</td>\n",
       "      <td>2019</td>\n",
       "      <td>Non Fiction</td>\n",
       "    </tr>\n",
       "  </tbody>\n",
       "</table>\n",
       "</div>"
      ],
      "text/plain": [
       "                                                Name  \\\n",
       "0                      10-Day Green Smoothie Cleanse   \n",
       "1                                  11/22/63: A Novel   \n",
       "2            12 Rules for Life: An Antidote to Chaos   \n",
       "3                             1984 (Signet Classics)   \n",
       "4  5,000 Awesome Facts (About Everything!) (Natio...   \n",
       "\n",
       "                     Author  User Rating  Reviews  Price  Year        Genre  \n",
       "0                  JJ Smith          4.7    17350      8  2016  Non Fiction  \n",
       "1              Stephen King          4.6     2052     22  2011      Fiction  \n",
       "2        Jordan B. Peterson          4.7    18979     15  2018  Non Fiction  \n",
       "3             George Orwell          4.7    21424      6  2017      Fiction  \n",
       "4  National Geographic Kids          4.8     7665     12  2019  Non Fiction  "
      ]
     },
     "execution_count": 2,
     "metadata": {},
     "output_type": "execute_result"
    }
   ],
   "source": [
    "df = pd.read_csv(r'C:\\Users\\user\\Documents\\Data Science\\bestsellers with categories.csv')\n",
    "df.head()"
   ]
  },
  {
   "cell_type": "markdown",
   "id": "2e3ab8c0-4110-43ad-8323-bcffd98c7fc0",
   "metadata": {},
   "source": [
    "# a) Proportion One Population Z-Test"
   ]
  },
  {
   "cell_type": "code",
   "execution_count": 3,
   "id": "78e4fea8-06e5-4413-9554-f2481482150f",
   "metadata": {},
   "outputs": [
    {
     "data": {
      "text/html": [
       "<div>\n",
       "<style scoped>\n",
       "    .dataframe tbody tr th:only-of-type {\n",
       "        vertical-align: middle;\n",
       "    }\n",
       "\n",
       "    .dataframe tbody tr th {\n",
       "        vertical-align: top;\n",
       "    }\n",
       "\n",
       "    .dataframe thead th {\n",
       "        text-align: right;\n",
       "    }\n",
       "</style>\n",
       "<table border=\"1\" class=\"dataframe\">\n",
       "  <thead>\n",
       "    <tr style=\"text-align: right;\">\n",
       "      <th></th>\n",
       "      <th>Name</th>\n",
       "      <th>Author</th>\n",
       "      <th>User Rating</th>\n",
       "      <th>Reviews</th>\n",
       "      <th>Price</th>\n",
       "      <th>Year</th>\n",
       "      <th>Genre</th>\n",
       "      <th>Genre_Bin</th>\n",
       "    </tr>\n",
       "  </thead>\n",
       "  <tbody>\n",
       "    <tr>\n",
       "      <th>0</th>\n",
       "      <td>10-Day Green Smoothie Cleanse</td>\n",
       "      <td>JJ Smith</td>\n",
       "      <td>4.7</td>\n",
       "      <td>17350</td>\n",
       "      <td>8</td>\n",
       "      <td>2016</td>\n",
       "      <td>Non Fiction</td>\n",
       "      <td>0</td>\n",
       "    </tr>\n",
       "    <tr>\n",
       "      <th>1</th>\n",
       "      <td>11/22/63: A Novel</td>\n",
       "      <td>Stephen King</td>\n",
       "      <td>4.6</td>\n",
       "      <td>2052</td>\n",
       "      <td>22</td>\n",
       "      <td>2011</td>\n",
       "      <td>Fiction</td>\n",
       "      <td>1</td>\n",
       "    </tr>\n",
       "    <tr>\n",
       "      <th>2</th>\n",
       "      <td>12 Rules for Life: An Antidote to Chaos</td>\n",
       "      <td>Jordan B. Peterson</td>\n",
       "      <td>4.7</td>\n",
       "      <td>18979</td>\n",
       "      <td>15</td>\n",
       "      <td>2018</td>\n",
       "      <td>Non Fiction</td>\n",
       "      <td>0</td>\n",
       "    </tr>\n",
       "    <tr>\n",
       "      <th>3</th>\n",
       "      <td>1984 (Signet Classics)</td>\n",
       "      <td>George Orwell</td>\n",
       "      <td>4.7</td>\n",
       "      <td>21424</td>\n",
       "      <td>6</td>\n",
       "      <td>2017</td>\n",
       "      <td>Fiction</td>\n",
       "      <td>1</td>\n",
       "    </tr>\n",
       "    <tr>\n",
       "      <th>4</th>\n",
       "      <td>5,000 Awesome Facts (About Everything!) (Natio...</td>\n",
       "      <td>National Geographic Kids</td>\n",
       "      <td>4.8</td>\n",
       "      <td>7665</td>\n",
       "      <td>12</td>\n",
       "      <td>2019</td>\n",
       "      <td>Non Fiction</td>\n",
       "      <td>0</td>\n",
       "    </tr>\n",
       "  </tbody>\n",
       "</table>\n",
       "</div>"
      ],
      "text/plain": [
       "                                                Name  \\\n",
       "0                      10-Day Green Smoothie Cleanse   \n",
       "1                                  11/22/63: A Novel   \n",
       "2            12 Rules for Life: An Antidote to Chaos   \n",
       "3                             1984 (Signet Classics)   \n",
       "4  5,000 Awesome Facts (About Everything!) (Natio...   \n",
       "\n",
       "                     Author  User Rating  Reviews  Price  Year        Genre  \\\n",
       "0                  JJ Smith          4.7    17350      8  2016  Non Fiction   \n",
       "1              Stephen King          4.6     2052     22  2011      Fiction   \n",
       "2        Jordan B. Peterson          4.7    18979     15  2018  Non Fiction   \n",
       "3             George Orwell          4.7    21424      6  2017      Fiction   \n",
       "4  National Geographic Kids          4.8     7665     12  2019  Non Fiction   \n",
       "\n",
       "   Genre_Bin  \n",
       "0          0  \n",
       "1          1  \n",
       "2          0  \n",
       "3          1  \n",
       "4          0  "
      ]
     },
     "execution_count": 3,
     "metadata": {},
     "output_type": "execute_result"
    }
   ],
   "source": [
    "# Fiction = 1, Non-Fiction = 0\n",
    "df['Genre_Bin'] = np.where(df['Genre'] == 'Fiction', 1, 0)\n",
    "df.head()"
   ]
  },
  {
   "cell_type": "code",
   "execution_count": 4,
   "id": "516b4c56-29d5-4601-9831-1a37c1f5693a",
   "metadata": {},
   "outputs": [
    {
     "name": "stdout",
     "output_type": "stream",
     "text": [
      "Proporsi jumlah buku fiksi:  0.43636363636363634\n"
     ]
    }
   ],
   "source": [
    "number_fiction  =  np.sum(df['Genre_Bin'])\n",
    "total = len(df['Genre_Bin'])\n",
    "fiction_rate = number_fiction/total\n",
    "print('Proporsi jumlah buku fiksi: ', fiction_rate)"
   ]
  },
  {
   "cell_type": "markdown",
   "id": "cfc95858-30d1-4710-b382-38b486b7c6f1",
   "metadata": {},
   "source": [
    "**Ho: Proporsi jumlah buku fiksi = 0.5   \n",
    "Ha: Proporsi jumlah buku fiksi > 0.5**"
   ]
  },
  {
   "cell_type": "code",
   "execution_count": 6,
   "id": "b7ee3b65-adb0-4ad1-8a72-245ff31c912b",
   "metadata": {},
   "outputs": [
    {
     "name": "stdout",
     "output_type": "stream",
     "text": [
      "p-value:  1.0\n",
      "z-stats:  -415.8063261233479\n"
     ]
    }
   ],
   "source": [
    "from statsmodels.stats.proportion import proportions_ztest\n",
    "z_stats, p_value = proportions_ztest(fiction_rate, total, 0.5, alternative = 'larger')\n",
    "print('p-value: ', p_value)\n",
    "print('z-stats: ', z_stats)"
   ]
  },
  {
   "cell_type": "code",
   "execution_count": 7,
   "id": "1a1eefcf-720f-4223-92b6-fdf10dfb663f",
   "metadata": {},
   "outputs": [
    {
     "data": {
      "text/plain": [
       "Non Fiction    310\n",
       "Fiction        240\n",
       "Name: Genre, dtype: int64"
      ]
     },
     "execution_count": 7,
     "metadata": {},
     "output_type": "execute_result"
    }
   ],
   "source": [
    "df['Genre'].value_counts()"
   ]
  },
  {
   "cell_type": "markdown",
   "id": "1fd0f728-251d-4ea3-84a0-48e1122473b3",
   "metadata": {},
   "source": [
    "# b) Proportion Two Population Z-Test"
   ]
  },
  {
   "cell_type": "code",
   "execution_count": 8,
   "id": "eb33460b-64ad-4972-9af5-5df95f9359f7",
   "metadata": {},
   "outputs": [],
   "source": [
    "# A/B Testing\n",
    "visitor_data_before = np.random.binomial(1, 0.5, 1000)\n",
    "visitor_data_after = np.random.binomial(1, 0.7, 1000)\n",
    "visitor_data_before = np.where(visitor_data_before == 1, 'buying', 'no buying')\n",
    "visitor_data_after = np.where(visitor_data_after == 1, 'buying', 'no buying')"
   ]
  },
  {
   "cell_type": "code",
   "execution_count": 12,
   "id": "b6cb3066-212d-49b8-a851-b138c28c9787",
   "metadata": {},
   "outputs": [],
   "source": [
    "df_before = pd.DataFrame({'layout':'old layout', 'conversion': visitor_data_before})\n",
    "df_after = pd.DataFrame({'layout':'new layout', 'conversion': visitor_data_after})"
   ]
  },
  {
   "cell_type": "code",
   "execution_count": 13,
   "id": "fb929845-31a9-4e25-8176-596a3ae532ed",
   "metadata": {},
   "outputs": [
    {
     "data": {
      "text/html": [
       "<div>\n",
       "<style scoped>\n",
       "    .dataframe tbody tr th:only-of-type {\n",
       "        vertical-align: middle;\n",
       "    }\n",
       "\n",
       "    .dataframe tbody tr th {\n",
       "        vertical-align: top;\n",
       "    }\n",
       "\n",
       "    .dataframe thead th {\n",
       "        text-align: right;\n",
       "    }\n",
       "</style>\n",
       "<table border=\"1\" class=\"dataframe\">\n",
       "  <thead>\n",
       "    <tr style=\"text-align: right;\">\n",
       "      <th></th>\n",
       "      <th>layout</th>\n",
       "      <th>conversion</th>\n",
       "    </tr>\n",
       "  </thead>\n",
       "  <tbody>\n",
       "    <tr>\n",
       "      <th>0</th>\n",
       "      <td>old layout</td>\n",
       "      <td>buying</td>\n",
       "    </tr>\n",
       "    <tr>\n",
       "      <th>1</th>\n",
       "      <td>old layout</td>\n",
       "      <td>no buying</td>\n",
       "    </tr>\n",
       "    <tr>\n",
       "      <th>2</th>\n",
       "      <td>old layout</td>\n",
       "      <td>buying</td>\n",
       "    </tr>\n",
       "    <tr>\n",
       "      <th>3</th>\n",
       "      <td>old layout</td>\n",
       "      <td>no buying</td>\n",
       "    </tr>\n",
       "    <tr>\n",
       "      <th>4</th>\n",
       "      <td>old layout</td>\n",
       "      <td>no buying</td>\n",
       "    </tr>\n",
       "    <tr>\n",
       "      <th>...</th>\n",
       "      <td>...</td>\n",
       "      <td>...</td>\n",
       "    </tr>\n",
       "    <tr>\n",
       "      <th>995</th>\n",
       "      <td>new layout</td>\n",
       "      <td>buying</td>\n",
       "    </tr>\n",
       "    <tr>\n",
       "      <th>996</th>\n",
       "      <td>new layout</td>\n",
       "      <td>buying</td>\n",
       "    </tr>\n",
       "    <tr>\n",
       "      <th>997</th>\n",
       "      <td>new layout</td>\n",
       "      <td>buying</td>\n",
       "    </tr>\n",
       "    <tr>\n",
       "      <th>998</th>\n",
       "      <td>new layout</td>\n",
       "      <td>buying</td>\n",
       "    </tr>\n",
       "    <tr>\n",
       "      <th>999</th>\n",
       "      <td>new layout</td>\n",
       "      <td>buying</td>\n",
       "    </tr>\n",
       "  </tbody>\n",
       "</table>\n",
       "<p>2000 rows × 2 columns</p>\n",
       "</div>"
      ],
      "text/plain": [
       "         layout conversion\n",
       "0    old layout     buying\n",
       "1    old layout  no buying\n",
       "2    old layout     buying\n",
       "3    old layout  no buying\n",
       "4    old layout  no buying\n",
       "..          ...        ...\n",
       "995  new layout     buying\n",
       "996  new layout     buying\n",
       "997  new layout     buying\n",
       "998  new layout     buying\n",
       "999  new layout     buying\n",
       "\n",
       "[2000 rows x 2 columns]"
      ]
     },
     "execution_count": 13,
     "metadata": {},
     "output_type": "execute_result"
    }
   ],
   "source": [
    "df_full = df_before.append(df_after)\n",
    "df_full"
   ]
  },
  {
   "cell_type": "code",
   "execution_count": 14,
   "id": "aad088e1-7ea3-424a-8001-ca5521c34749",
   "metadata": {},
   "outputs": [
    {
     "data": {
      "text/html": [
       "<div>\n",
       "<style scoped>\n",
       "    .dataframe tbody tr th:only-of-type {\n",
       "        vertical-align: middle;\n",
       "    }\n",
       "\n",
       "    .dataframe tbody tr th {\n",
       "        vertical-align: top;\n",
       "    }\n",
       "\n",
       "    .dataframe thead th {\n",
       "        text-align: right;\n",
       "    }\n",
       "</style>\n",
       "<table border=\"1\" class=\"dataframe\">\n",
       "  <thead>\n",
       "    <tr style=\"text-align: right;\">\n",
       "      <th>conversion</th>\n",
       "      <th>buying</th>\n",
       "      <th>no buying</th>\n",
       "    </tr>\n",
       "    <tr>\n",
       "      <th>layout</th>\n",
       "      <th></th>\n",
       "      <th></th>\n",
       "    </tr>\n",
       "  </thead>\n",
       "  <tbody>\n",
       "    <tr>\n",
       "      <th>new layout</th>\n",
       "      <td>734</td>\n",
       "      <td>266</td>\n",
       "    </tr>\n",
       "    <tr>\n",
       "      <th>old layout</th>\n",
       "      <td>509</td>\n",
       "      <td>491</td>\n",
       "    </tr>\n",
       "  </tbody>\n",
       "</table>\n",
       "</div>"
      ],
      "text/plain": [
       "conversion  buying  no buying\n",
       "layout                       \n",
       "new layout     734        266\n",
       "old layout     509        491"
      ]
     },
     "execution_count": 14,
     "metadata": {},
     "output_type": "execute_result"
    }
   ],
   "source": [
    "pd.crosstab(df_full['layout'], df_full['conversion'])"
   ]
  },
  {
   "cell_type": "markdown",
   "id": "bf51b50c-e7ef-44cf-8fc0-01e13aeb8e4f",
   "metadata": {},
   "source": [
    "**Ho: p-before = p-after   \n",
    "Ha: p-after > p-before**"
   ]
  },
  {
   "cell_type": "code",
   "execution_count": 15,
   "id": "35747ce0-5959-441e-ab9c-919cc3f3d07d",
   "metadata": {},
   "outputs": [
    {
     "name": "stdout",
     "output_type": "stream",
     "text": [
      "Conversion rate before:  0.509\n"
     ]
    }
   ],
   "source": [
    "# Conversion Rate Before \n",
    "n_success_before = len(df_full[(df_full['layout'] == 'old layout') & (df_full['conversion'] == 'buying')])\n",
    "n_before = len(df_full[(df_full['layout'] == 'old layout')])\n",
    "success_rate_before = n_success_before/n_before\n",
    "\n",
    "print('Conversion rate before: ', success_rate_before)"
   ]
  },
  {
   "cell_type": "code",
   "execution_count": 16,
   "id": "e7a5407e-7548-4832-80b3-aaa0dfb2d2ef",
   "metadata": {},
   "outputs": [
    {
     "name": "stdout",
     "output_type": "stream",
     "text": [
      "Conversion rate after:  0.734\n"
     ]
    }
   ],
   "source": [
    "# Conversion Rate After\n",
    "n_success_after = len(df_full[(df_full['layout'] == 'new layout') & (df_full['conversion'] == 'buying')])\n",
    "n_after = len(df_full[(df_full['layout'] == 'new layout')])\n",
    "success_rate_after = n_success_after/n_after\n",
    "\n",
    "print('Conversion rate after: ', success_rate_after)"
   ]
  },
  {
   "cell_type": "code",
   "execution_count": 17,
   "id": "02438df9-a4b1-487a-bb05-d1269772e95e",
   "metadata": {},
   "outputs": [],
   "source": [
    "# Total number buying (success)\n",
    "number_success = np.array([n_success_before, n_success_after])\n",
    "\n",
    "# Total Traffic (all visitor = not buying + buying)\n",
    "total = np.array([n_before, n_after])"
   ]
  },
  {
   "cell_type": "code",
   "execution_count": 19,
   "id": "a3b02bb7-c808-4c32-9f97-ad24af93590d",
   "metadata": {},
   "outputs": [
    {
     "name": "stdout",
     "output_type": "stream",
     "text": [
      "p-value:  1.6411909747198188e-25\n"
     ]
    }
   ],
   "source": [
    "from statsmodels.stats.proportion import proportions_ztest\n",
    "z_stat, p_value = proportions_ztest(number_success, total, alternative = 'smaller')\n",
    "\n",
    "print('p-value: ', p_value)"
   ]
  },
  {
   "cell_type": "markdown",
   "id": "e01616d4-79dd-4607-9279-71a059083834",
   "metadata": {},
   "source": [
    "# c) Chi-Squared Test for Independence betweet Two Categorical Variables"
   ]
  },
  {
   "cell_type": "code",
   "execution_count": 20,
   "id": "5ec7c126-37c1-4146-80fe-f0657a88f9a4",
   "metadata": {},
   "outputs": [
    {
     "data": {
      "text/html": [
       "<div>\n",
       "<style scoped>\n",
       "    .dataframe tbody tr th:only-of-type {\n",
       "        vertical-align: middle;\n",
       "    }\n",
       "\n",
       "    .dataframe tbody tr th {\n",
       "        vertical-align: top;\n",
       "    }\n",
       "\n",
       "    .dataframe thead th {\n",
       "        text-align: right;\n",
       "    }\n",
       "</style>\n",
       "<table border=\"1\" class=\"dataframe\">\n",
       "  <thead>\n",
       "    <tr style=\"text-align: right;\">\n",
       "      <th></th>\n",
       "      <th>Banana</th>\n",
       "      <th>Mango</th>\n",
       "      <th>Pineapple</th>\n",
       "    </tr>\n",
       "  </thead>\n",
       "  <tbody>\n",
       "    <tr>\n",
       "      <th>Male Customer</th>\n",
       "      <td>207</td>\n",
       "      <td>282</td>\n",
       "      <td>241</td>\n",
       "    </tr>\n",
       "    <tr>\n",
       "      <th>Female Customer</th>\n",
       "      <td>234</td>\n",
       "      <td>242</td>\n",
       "      <td>232</td>\n",
       "    </tr>\n",
       "  </tbody>\n",
       "</table>\n",
       "</div>"
      ],
      "text/plain": [
       "                 Banana  Mango  Pineapple\n",
       "Male Customer       207    282        241\n",
       "Female Customer     234    242        232"
      ]
     },
     "execution_count": 20,
     "metadata": {},
     "output_type": "execute_result"
    }
   ],
   "source": [
    "df_c = pd.DataFrame(data = [[207, 282, 241], [234, 242, 232]],\n",
    "                   columns = ['Banana', 'Mango', 'Pineapple'], \n",
    "                   index = ['Male Customer', 'Female Customer'])\n",
    "df_c"
   ]
  },
  {
   "cell_type": "markdown",
   "id": "ba227d4f-d9c1-4e93-a8b2-bc6e56c70e28",
   "metadata": {},
   "source": [
    "**Ho: Two variables are independent  \n",
    "Ha: Two variables are dependent**"
   ]
  },
  {
   "cell_type": "code",
   "execution_count": 26,
   "id": "6a07271e-51cb-48bf-aab2-6860198f0ab3",
   "metadata": {},
   "outputs": [
    {
     "name": "stdout",
     "output_type": "stream",
     "text": [
      "p-value:  0.1031971404730939\n",
      "Independent : Accpet Ho\n"
     ]
    }
   ],
   "source": [
    "from scipy.stats import chi2_contingency\n",
    "\n",
    "data = [[207, 282, 241], [234, 242, 232]]\n",
    "stat, pvalue, dof, expected = chi2_contingency(data)\n",
    "\n",
    "# Conclusion\n",
    "alpha = 0.05\n",
    "print('p-value: ', pvalue)\n",
    "if pvalue <= alpha:\n",
    "    print('Dependent : Reject Ho')\n",
    "else:\n",
    "    print('Independent : Accpet Ho')"
   ]
  },
  {
   "cell_type": "code",
   "execution_count": null,
   "id": "60bc3f15-61d0-4f26-a141-3fd399a1ae3d",
   "metadata": {},
   "outputs": [],
   "source": []
  },
  {
   "cell_type": "code",
   "execution_count": null,
   "id": "1c128878-9e4d-4bfe-8500-5d558ba5b30c",
   "metadata": {},
   "outputs": [],
   "source": []
  },
  {
   "cell_type": "code",
   "execution_count": null,
   "id": "af2ec4cf-44a1-45e8-be80-9207608062c3",
   "metadata": {},
   "outputs": [],
   "source": []
  }
 ],
 "metadata": {
  "kernelspec": {
   "display_name": "Python 3",
   "language": "python",
   "name": "python3"
  },
  "language_info": {
   "codemirror_mode": {
    "name": "ipython",
    "version": 3
   },
   "file_extension": ".py",
   "mimetype": "text/x-python",
   "name": "python",
   "nbconvert_exporter": "python",
   "pygments_lexer": "ipython3",
   "version": "3.7.3"
  }
 },
 "nbformat": 4,
 "nbformat_minor": 5
}

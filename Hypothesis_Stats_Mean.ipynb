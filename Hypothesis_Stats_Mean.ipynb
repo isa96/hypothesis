{
 "cells": [
  {
   "cell_type": "code",
   "execution_count": 1,
   "id": "35e9f896-cbc0-42bc-8f9e-2b63ee576c5d",
   "metadata": {},
   "outputs": [],
   "source": [
    "import pandas as pd\n",
    "import numpy as np"
   ]
  },
  {
   "cell_type": "code",
   "execution_count": 2,
   "id": "1bf12e19-d064-44d9-a369-71def517c559",
   "metadata": {},
   "outputs": [
    {
     "data": {
      "text/html": [
       "<div>\n",
       "<style scoped>\n",
       "    .dataframe tbody tr th:only-of-type {\n",
       "        vertical-align: middle;\n",
       "    }\n",
       "\n",
       "    .dataframe tbody tr th {\n",
       "        vertical-align: top;\n",
       "    }\n",
       "\n",
       "    .dataframe thead th {\n",
       "        text-align: right;\n",
       "    }\n",
       "</style>\n",
       "<table border=\"1\" class=\"dataframe\">\n",
       "  <thead>\n",
       "    <tr style=\"text-align: right;\">\n",
       "      <th></th>\n",
       "      <th>Name</th>\n",
       "      <th>Author</th>\n",
       "      <th>User Rating</th>\n",
       "      <th>Reviews</th>\n",
       "      <th>Price</th>\n",
       "      <th>Year</th>\n",
       "      <th>Genre</th>\n",
       "    </tr>\n",
       "  </thead>\n",
       "  <tbody>\n",
       "    <tr>\n",
       "      <th>0</th>\n",
       "      <td>10-Day Green Smoothie Cleanse</td>\n",
       "      <td>JJ Smith</td>\n",
       "      <td>4.7</td>\n",
       "      <td>17350</td>\n",
       "      <td>8</td>\n",
       "      <td>2016</td>\n",
       "      <td>Non Fiction</td>\n",
       "    </tr>\n",
       "    <tr>\n",
       "      <th>1</th>\n",
       "      <td>11/22/63: A Novel</td>\n",
       "      <td>Stephen King</td>\n",
       "      <td>4.6</td>\n",
       "      <td>2052</td>\n",
       "      <td>22</td>\n",
       "      <td>2011</td>\n",
       "      <td>Fiction</td>\n",
       "    </tr>\n",
       "    <tr>\n",
       "      <th>2</th>\n",
       "      <td>12 Rules for Life: An Antidote to Chaos</td>\n",
       "      <td>Jordan B. Peterson</td>\n",
       "      <td>4.7</td>\n",
       "      <td>18979</td>\n",
       "      <td>15</td>\n",
       "      <td>2018</td>\n",
       "      <td>Non Fiction</td>\n",
       "    </tr>\n",
       "    <tr>\n",
       "      <th>3</th>\n",
       "      <td>1984 (Signet Classics)</td>\n",
       "      <td>George Orwell</td>\n",
       "      <td>4.7</td>\n",
       "      <td>21424</td>\n",
       "      <td>6</td>\n",
       "      <td>2017</td>\n",
       "      <td>Fiction</td>\n",
       "    </tr>\n",
       "    <tr>\n",
       "      <th>4</th>\n",
       "      <td>5,000 Awesome Facts (About Everything!) (Natio...</td>\n",
       "      <td>National Geographic Kids</td>\n",
       "      <td>4.8</td>\n",
       "      <td>7665</td>\n",
       "      <td>12</td>\n",
       "      <td>2019</td>\n",
       "      <td>Non Fiction</td>\n",
       "    </tr>\n",
       "  </tbody>\n",
       "</table>\n",
       "</div>"
      ],
      "text/plain": [
       "                                                Name  \\\n",
       "0                      10-Day Green Smoothie Cleanse   \n",
       "1                                  11/22/63: A Novel   \n",
       "2            12 Rules for Life: An Antidote to Chaos   \n",
       "3                             1984 (Signet Classics)   \n",
       "4  5,000 Awesome Facts (About Everything!) (Natio...   \n",
       "\n",
       "                     Author  User Rating  Reviews  Price  Year        Genre  \n",
       "0                  JJ Smith          4.7    17350      8  2016  Non Fiction  \n",
       "1              Stephen King          4.6     2052     22  2011      Fiction  \n",
       "2        Jordan B. Peterson          4.7    18979     15  2018  Non Fiction  \n",
       "3             George Orwell          4.7    21424      6  2017      Fiction  \n",
       "4  National Geographic Kids          4.8     7665     12  2019  Non Fiction  "
      ]
     },
     "execution_count": 2,
     "metadata": {},
     "output_type": "execute_result"
    }
   ],
   "source": [
    "df = pd.read_csv(r'C:\\Users\\user\\Documents\\Data Science\\bestsellers with categories.csv')\n",
    "df.head()"
   ]
  },
  {
   "cell_type": "code",
   "execution_count": 3,
   "id": "df67b316-443c-4121-92c0-2e89a03cf5a9",
   "metadata": {},
   "outputs": [
    {
     "name": "stdout",
     "output_type": "stream",
     "text": [
      "<class 'pandas.core.frame.DataFrame'>\n",
      "RangeIndex: 550 entries, 0 to 549\n",
      "Data columns (total 7 columns):\n",
      " #   Column       Non-Null Count  Dtype  \n",
      "---  ------       --------------  -----  \n",
      " 0   Name         550 non-null    object \n",
      " 1   Author       550 non-null    object \n",
      " 2   User Rating  550 non-null    float64\n",
      " 3   Reviews      550 non-null    int64  \n",
      " 4   Price        550 non-null    int64  \n",
      " 5   Year         550 non-null    int64  \n",
      " 6   Genre        550 non-null    object \n",
      "dtypes: float64(1), int64(3), object(3)\n",
      "memory usage: 30.2+ KB\n"
     ]
    }
   ],
   "source": [
    "df.info()"
   ]
  },
  {
   "cell_type": "markdown",
   "id": "de712e40-3f69-4cca-8481-617ec8d269c6",
   "metadata": {},
   "source": [
    "____\n",
    "# 1. One Sample T-Test\n",
    "**Hypothesis:**  \n",
    "**Ho:** Mean price = 10  \n",
    "**Ha:** Mean price > 10"
   ]
  },
  {
   "cell_type": "code",
   "execution_count": 6,
   "id": "f453c4ea-edec-4da0-b07e-019fa2b69b59",
   "metadata": {},
   "outputs": [
    {
     "name": "stdout",
     "output_type": "stream",
     "text": [
      "p-value:  2.5008144800630206e-11\n",
      "Reject Ho\n"
     ]
    }
   ],
   "source": [
    "from scipy.stats import ttest_1samp\n",
    "tset, pval = ttest_1samp(df['Price'], 10)\n",
    "print('p-value: ', pval/2)\n",
    "\n",
    "# Conclusion\n",
    "if pval/2 < 0.05:\n",
    "    print('Reject Ho')\n",
    "else:\n",
    "    print('Accept Ho')"
   ]
  },
  {
   "cell_type": "code",
   "execution_count": 7,
   "id": "8d590634-c1d0-4aec-80ab-337e71db28d1",
   "metadata": {},
   "outputs": [
    {
     "data": {
      "text/plain": [
       "13.1"
      ]
     },
     "execution_count": 7,
     "metadata": {},
     "output_type": "execute_result"
    }
   ],
   "source": [
    "df['Price'].mean()"
   ]
  },
  {
   "cell_type": "markdown",
   "id": "f3c7ae16-566d-471f-85e8-0b903bbf7a43",
   "metadata": {},
   "source": [
    "_____\n",
    "# 2. Two Sample Independent T-Test  \n",
    "**Hypothesis:**  \n",
    "**Ho:** mean fiksi = mean non-fiksi  \n",
    "**Ha:** mean fiksi > mean non-fiksi\n"
   ]
  },
  {
   "cell_type": "code",
   "execution_count": 8,
   "id": "cfc1c75c-950b-44ec-b5e1-c85a5f7fae51",
   "metadata": {},
   "outputs": [
    {
     "data": {
      "text/html": [
       "<div>\n",
       "<style scoped>\n",
       "    .dataframe tbody tr th:only-of-type {\n",
       "        vertical-align: middle;\n",
       "    }\n",
       "\n",
       "    .dataframe tbody tr th {\n",
       "        vertical-align: top;\n",
       "    }\n",
       "\n",
       "    .dataframe thead th {\n",
       "        text-align: right;\n",
       "    }\n",
       "</style>\n",
       "<table border=\"1\" class=\"dataframe\">\n",
       "  <thead>\n",
       "    <tr style=\"text-align: right;\">\n",
       "      <th></th>\n",
       "      <th>Price</th>\n",
       "      <th>Genre</th>\n",
       "    </tr>\n",
       "  </thead>\n",
       "  <tbody>\n",
       "    <tr>\n",
       "      <th>0</th>\n",
       "      <td>8</td>\n",
       "      <td>Non Fiction</td>\n",
       "    </tr>\n",
       "    <tr>\n",
       "      <th>1</th>\n",
       "      <td>22</td>\n",
       "      <td>Fiction</td>\n",
       "    </tr>\n",
       "    <tr>\n",
       "      <th>2</th>\n",
       "      <td>15</td>\n",
       "      <td>Non Fiction</td>\n",
       "    </tr>\n",
       "    <tr>\n",
       "      <th>3</th>\n",
       "      <td>6</td>\n",
       "      <td>Fiction</td>\n",
       "    </tr>\n",
       "    <tr>\n",
       "      <th>4</th>\n",
       "      <td>12</td>\n",
       "      <td>Non Fiction</td>\n",
       "    </tr>\n",
       "  </tbody>\n",
       "</table>\n",
       "</div>"
      ],
      "text/plain": [
       "   Price        Genre\n",
       "0      8  Non Fiction\n",
       "1     22      Fiction\n",
       "2     15  Non Fiction\n",
       "3      6      Fiction\n",
       "4     12  Non Fiction"
      ]
     },
     "execution_count": 8,
     "metadata": {},
     "output_type": "execute_result"
    }
   ],
   "source": [
    "df[['Price', 'Genre']].head()"
   ]
  },
  {
   "cell_type": "markdown",
   "id": "5e8371a1-968c-4910-bd49-d6162d924c50",
   "metadata": {},
   "source": [
    "## a) Non Equal Variance"
   ]
  },
  {
   "cell_type": "code",
   "execution_count": 11,
   "id": "e6489680-786a-4435-91f1-50c9e6d04c7f",
   "metadata": {},
   "outputs": [
    {
     "name": "stdout",
     "output_type": "stream",
     "text": [
      "T-Statistic:  4.537208093329263\n",
      "p-value:  3.5095048008863536e-06\n",
      "Reject Ho\n"
     ]
    }
   ],
   "source": [
    "from scipy.stats import ttest_ind\n",
    "\n",
    "result = list(ttest_ind\n",
    "              (df[df['Genre'] == 'Non Fiction']['Price'],\n",
    "               df[df['Genre']== 'Fiction']['Price'],\n",
    "              equal_var=False))\n",
    "\n",
    "print('T-Statistic: ', result[0])\n",
    "print('p-value: ', result[1]/2)\n",
    "\n",
    "if result[1]/2 < 0.05:\n",
    "    print('Reject Ho')\n",
    "else:\n",
    "    print('Accept Ho')"
   ]
  },
  {
   "cell_type": "markdown",
   "id": "e0de643b-c736-4802-9924-2d70c6197c93",
   "metadata": {},
   "source": [
    "## b) Equal Variance"
   ]
  },
  {
   "cell_type": "code",
   "execution_count": 12,
   "id": "a3081122-84f4-465f-838f-f97f7fc0a428",
   "metadata": {},
   "outputs": [
    {
     "name": "stdout",
     "output_type": "stream",
     "text": [
      "T-Statistic:  4.351608076818746\n",
      "p-value:  8.062175359060365e-06\n",
      "Reject Ho\n"
     ]
    }
   ],
   "source": [
    "from scipy.stats import ttest_ind\n",
    "\n",
    "result = list(ttest_ind\n",
    "              (df[df['Genre'] == 'Non Fiction']['Price'],\n",
    "               df[df['Genre']== 'Fiction']['Price'],\n",
    "              equal_var=True))\n",
    "\n",
    "print('T-Statistic: ', result[0])\n",
    "print('p-value: ', result[1]/2)\n",
    "\n",
    "if result[1]/2 < 0.05:\n",
    "    print('Reject Ho')\n",
    "else:\n",
    "    print('Accept Ho')"
   ]
  },
  {
   "cell_type": "code",
   "execution_count": 13,
   "id": "35db2423-62ae-4ce1-bb46-beb74760b591",
   "metadata": {},
   "outputs": [
    {
     "data": {
      "text/html": [
       "<div>\n",
       "<style scoped>\n",
       "    .dataframe tbody tr th:only-of-type {\n",
       "        vertical-align: middle;\n",
       "    }\n",
       "\n",
       "    .dataframe tbody tr th {\n",
       "        vertical-align: top;\n",
       "    }\n",
       "\n",
       "    .dataframe thead th {\n",
       "        text-align: right;\n",
       "    }\n",
       "</style>\n",
       "<table border=\"1\" class=\"dataframe\">\n",
       "  <thead>\n",
       "    <tr style=\"text-align: right;\">\n",
       "      <th></th>\n",
       "      <th>Price</th>\n",
       "    </tr>\n",
       "    <tr>\n",
       "      <th>Genre</th>\n",
       "      <th></th>\n",
       "    </tr>\n",
       "  </thead>\n",
       "  <tbody>\n",
       "    <tr>\n",
       "      <th>Fiction</th>\n",
       "      <td>10.850000</td>\n",
       "    </tr>\n",
       "    <tr>\n",
       "      <th>Non Fiction</th>\n",
       "      <td>14.841935</td>\n",
       "    </tr>\n",
       "  </tbody>\n",
       "</table>\n",
       "</div>"
      ],
      "text/plain": [
       "                 Price\n",
       "Genre                 \n",
       "Fiction      10.850000\n",
       "Non Fiction  14.841935"
      ]
     },
     "execution_count": 13,
     "metadata": {},
     "output_type": "execute_result"
    }
   ],
   "source": [
    "df[['Price', 'Genre']].groupby(['Genre']).mean()"
   ]
  },
  {
   "cell_type": "markdown",
   "id": "64c53efc-e810-405f-a259-8b6edae394e8",
   "metadata": {},
   "source": [
    "## c) T-Test Paired"
   ]
  },
  {
   "cell_type": "code",
   "execution_count": 14,
   "id": "14cb7b1c-aa0c-4c79-9be9-9783536300d1",
   "metadata": {},
   "outputs": [],
   "source": [
    "using_smartphone = [604, 556, 540, 522, 469, 544, 513, 470, 556, 531, 599, 537, 619, 536, 554, 467]\n",
    "no_smartphone = [636, 623, 615, 672, 601, 600, 542, 554, 543, 520, 609, 559, 595, 565, 573, 554]\n",
    "\n",
    "df_paired = pd.DataFrame({\n",
    "    'No':no_smartphone,\n",
    "    'Yes':using_smartphone\n",
    "})\n",
    "\n",
    "df_paired['diff'] = df_paired['Yes'] - df_paired['No']"
   ]
  },
  {
   "cell_type": "code",
   "execution_count": 15,
   "id": "18682a09-353f-459a-8aa4-1bfb0299aeb5",
   "metadata": {},
   "outputs": [
    {
     "data": {
      "text/html": [
       "<div>\n",
       "<style scoped>\n",
       "    .dataframe tbody tr th:only-of-type {\n",
       "        vertical-align: middle;\n",
       "    }\n",
       "\n",
       "    .dataframe tbody tr th {\n",
       "        vertical-align: top;\n",
       "    }\n",
       "\n",
       "    .dataframe thead th {\n",
       "        text-align: right;\n",
       "    }\n",
       "</style>\n",
       "<table border=\"1\" class=\"dataframe\">\n",
       "  <thead>\n",
       "    <tr style=\"text-align: right;\">\n",
       "      <th></th>\n",
       "      <th>No</th>\n",
       "      <th>Yes</th>\n",
       "      <th>diff</th>\n",
       "    </tr>\n",
       "  </thead>\n",
       "  <tbody>\n",
       "    <tr>\n",
       "      <th>0</th>\n",
       "      <td>636</td>\n",
       "      <td>604</td>\n",
       "      <td>-32</td>\n",
       "    </tr>\n",
       "    <tr>\n",
       "      <th>1</th>\n",
       "      <td>623</td>\n",
       "      <td>556</td>\n",
       "      <td>-67</td>\n",
       "    </tr>\n",
       "    <tr>\n",
       "      <th>2</th>\n",
       "      <td>615</td>\n",
       "      <td>540</td>\n",
       "      <td>-75</td>\n",
       "    </tr>\n",
       "    <tr>\n",
       "      <th>3</th>\n",
       "      <td>672</td>\n",
       "      <td>522</td>\n",
       "      <td>-150</td>\n",
       "    </tr>\n",
       "    <tr>\n",
       "      <th>4</th>\n",
       "      <td>601</td>\n",
       "      <td>469</td>\n",
       "      <td>-132</td>\n",
       "    </tr>\n",
       "  </tbody>\n",
       "</table>\n",
       "</div>"
      ],
      "text/plain": [
       "    No  Yes  diff\n",
       "0  636  604   -32\n",
       "1  623  556   -67\n",
       "2  615  540   -75\n",
       "3  672  522  -150\n",
       "4  601  469  -132"
      ]
     },
     "execution_count": 15,
     "metadata": {},
     "output_type": "execute_result"
    }
   ],
   "source": [
    "df_paired.head()"
   ]
  },
  {
   "cell_type": "markdown",
   "id": "dfcb076e-5186-428c-b9c0-e863916055ea",
   "metadata": {},
   "source": [
    "**Ho: Mean population of diff = 0  \n",
    "Ha: Mean population of diff < 0**"
   ]
  },
  {
   "cell_type": "code",
   "execution_count": 17,
   "id": "aa17b794-85fe-4e7c-9fcd-14b432c3c270",
   "metadata": {},
   "outputs": [
    {
     "name": "stdout",
     "output_type": "stream",
     "text": [
      "tset:  -3.7091357792693707\n",
      "p-value:  0.0010497189034628326\n",
      "Reject Ho\n"
     ]
    }
   ],
   "source": [
    "tset, pval = ttest_1samp(df_paired['diff'], 0)\n",
    "print('tset: ', tset)\n",
    "print('p-value: ', pval/2)\n",
    "\n",
    "if pval/2 < 0.05:\n",
    "    print('Reject Ho')\n",
    "else:\n",
    "    print('Accept Ho')"
   ]
  },
  {
   "cell_type": "markdown",
   "id": "1cff4525-2e7e-4df9-916a-1ede800d553f",
   "metadata": {},
   "source": [
    "## d) One Way Anova F-Test for More than Two Population"
   ]
  },
  {
   "cell_type": "code",
   "execution_count": 22,
   "id": "fc1ef9dc-848b-4c3f-b0ab-4cc6d21c1c76",
   "metadata": {},
   "outputs": [
    {
     "data": {
      "text/html": [
       "<div>\n",
       "<style scoped>\n",
       "    .dataframe tbody tr th:only-of-type {\n",
       "        vertical-align: middle;\n",
       "    }\n",
       "\n",
       "    .dataframe tbody tr th {\n",
       "        vertical-align: top;\n",
       "    }\n",
       "\n",
       "    .dataframe thead th {\n",
       "        text-align: right;\n",
       "    }\n",
       "</style>\n",
       "<table border=\"1\" class=\"dataframe\">\n",
       "  <thead>\n",
       "    <tr style=\"text-align: right;\">\n",
       "      <th></th>\n",
       "      <th>Transportation</th>\n",
       "      <th>Study Hour</th>\n",
       "    </tr>\n",
       "  </thead>\n",
       "  <tbody>\n",
       "    <tr>\n",
       "      <th>22</th>\n",
       "      <td>Private</td>\n",
       "      <td>5</td>\n",
       "    </tr>\n",
       "    <tr>\n",
       "      <th>1</th>\n",
       "      <td>Walking</td>\n",
       "      <td>4</td>\n",
       "    </tr>\n",
       "    <tr>\n",
       "      <th>12</th>\n",
       "      <td>Public</td>\n",
       "      <td>5</td>\n",
       "    </tr>\n",
       "    <tr>\n",
       "      <th>28</th>\n",
       "      <td>Private</td>\n",
       "      <td>7</td>\n",
       "    </tr>\n",
       "    <tr>\n",
       "      <th>18</th>\n",
       "      <td>Public</td>\n",
       "      <td>6</td>\n",
       "    </tr>\n",
       "  </tbody>\n",
       "</table>\n",
       "</div>"
      ],
      "text/plain": [
       "   Transportation  Study Hour\n",
       "22        Private           5\n",
       "1         Walking           4\n",
       "12         Public           5\n",
       "28        Private           7\n",
       "18         Public           6"
      ]
     },
     "execution_count": 22,
     "metadata": {},
     "output_type": "execute_result"
    }
   ],
   "source": [
    "transport = []\n",
    "method = ['Walking ', 'Public ', 'Private ']\n",
    "for i in method:\n",
    "    transport.extend((i*10).split())\n",
    "    \n",
    "df = pd.concat([pd.Series(transport, name = 'Transportation'),\n",
    "               pd.Series([5,4,5,6,5,3,2,4,5,5,7,7,5,6,4,6,5,5,6,7,5,4,5,6,6,5,5,5,7,7], name = 'Study Hour')], axis=1)\n",
    "df.sample(5)"
   ]
  },
  {
   "cell_type": "markdown",
   "id": "c389c645-9e69-4b3b-98a3-5abd32af64d7",
   "metadata": {},
   "source": [
    "**Ho: Mean study hour walking =  Mean study hour public =  Mean study hour private   \n",
    "Ha: Minimal ada satu pasang yang sama**"
   ]
  },
  {
   "cell_type": "code",
   "execution_count": 25,
   "id": "9a696891-79e0-45bb-abf4-44c7d79f019f",
   "metadata": {},
   "outputs": [
    {
     "name": "stdout",
     "output_type": "stream",
     "text": [
      "Statistic:  4.809836065573772\n",
      "P-Value:  0.0163405142361861\n",
      "Reject Ho\n"
     ]
    }
   ],
   "source": [
    "from scipy.stats import f_oneway\n",
    "\n",
    "stat, pval = f_oneway(df[df['Transportation'] == 'Public']['Study Hour'],\n",
    "                      df[df['Transportation'] == 'Walking']['Study Hour'],\n",
    "                      df[df['Transportation'] == 'Private']['Study Hour'])\n",
    "\n",
    "print('Statistic: ', stat)\n",
    "print('P-Value: ', pval)\n",
    "\n",
    "if pval < 0.05:\n",
    "    print('Reject Ho')\n",
    "else:\n",
    "    print('Accept Ho')"
   ]
  },
  {
   "cell_type": "code",
   "execution_count": 26,
   "id": "36fed0a7-154c-4c76-ba60-6dfceb742d53",
   "metadata": {},
   "outputs": [
    {
     "data": {
      "text/html": [
       "<div>\n",
       "<style scoped>\n",
       "    .dataframe tbody tr th:only-of-type {\n",
       "        vertical-align: middle;\n",
       "    }\n",
       "\n",
       "    .dataframe tbody tr th {\n",
       "        vertical-align: top;\n",
       "    }\n",
       "\n",
       "    .dataframe thead th {\n",
       "        text-align: right;\n",
       "    }\n",
       "</style>\n",
       "<table border=\"1\" class=\"dataframe\">\n",
       "  <thead>\n",
       "    <tr style=\"text-align: right;\">\n",
       "      <th></th>\n",
       "      <th>Study Hour</th>\n",
       "    </tr>\n",
       "    <tr>\n",
       "      <th>Transportation</th>\n",
       "      <th></th>\n",
       "    </tr>\n",
       "  </thead>\n",
       "  <tbody>\n",
       "    <tr>\n",
       "      <th>Private</th>\n",
       "      <td>5.5</td>\n",
       "    </tr>\n",
       "    <tr>\n",
       "      <th>Public</th>\n",
       "      <td>5.8</td>\n",
       "    </tr>\n",
       "    <tr>\n",
       "      <th>Walking</th>\n",
       "      <td>4.4</td>\n",
       "    </tr>\n",
       "  </tbody>\n",
       "</table>\n",
       "</div>"
      ],
      "text/plain": [
       "                Study Hour\n",
       "Transportation            \n",
       "Private                5.5\n",
       "Public                 5.8\n",
       "Walking                4.4"
      ]
     },
     "execution_count": 26,
     "metadata": {},
     "output_type": "execute_result"
    }
   ],
   "source": [
    "df.groupby('Transportation').mean()"
   ]
  },
  {
   "cell_type": "code",
   "execution_count": null,
   "id": "f2d4fa18-0883-48d6-af2d-6ad7c2837991",
   "metadata": {},
   "outputs": [],
   "source": []
  }
 ],
 "metadata": {
  "kernelspec": {
   "display_name": "Python 3",
   "language": "python",
   "name": "python3"
  },
  "language_info": {
   "codemirror_mode": {
    "name": "ipython",
    "version": 3
   },
   "file_extension": ".py",
   "mimetype": "text/x-python",
   "name": "python",
   "nbconvert_exporter": "python",
   "pygments_lexer": "ipython3",
   "version": "3.7.3"
  }
 },
 "nbformat": 4,
 "nbformat_minor": 5
}

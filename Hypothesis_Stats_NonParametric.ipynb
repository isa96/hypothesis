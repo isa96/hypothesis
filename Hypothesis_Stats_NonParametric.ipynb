{
 "cells": [
  {
   "cell_type": "code",
   "execution_count": 1,
   "id": "9ff5e426-8db3-4926-89ef-babc5e695b41",
   "metadata": {},
   "outputs": [],
   "source": [
    "import pandas as pd\n",
    "import numpy as np"
   ]
  },
  {
   "cell_type": "markdown",
   "id": "b856817b-b73d-4dc4-a4e1-d91d8e92ebb3",
   "metadata": {},
   "source": [
    "# a) Mann Whitney"
   ]
  },
  {
   "cell_type": "code",
   "execution_count": 3,
   "id": "31b8f25e-628c-48c6-ba08-dba97a229374",
   "metadata": {},
   "outputs": [
    {
     "data": {
      "text/html": [
       "<div>\n",
       "<style scoped>\n",
       "    .dataframe tbody tr th:only-of-type {\n",
       "        vertical-align: middle;\n",
       "    }\n",
       "\n",
       "    .dataframe tbody tr th {\n",
       "        vertical-align: top;\n",
       "    }\n",
       "\n",
       "    .dataframe thead th {\n",
       "        text-align: right;\n",
       "    }\n",
       "</style>\n",
       "<table border=\"1\" class=\"dataframe\">\n",
       "  <thead>\n",
       "    <tr style=\"text-align: right;\">\n",
       "      <th></th>\n",
       "      <th>Read Book</th>\n",
       "      <th>Score</th>\n",
       "    </tr>\n",
       "  </thead>\n",
       "  <tbody>\n",
       "    <tr>\n",
       "      <th>0</th>\n",
       "      <td>Yes</td>\n",
       "      <td>70.0</td>\n",
       "    </tr>\n",
       "    <tr>\n",
       "      <th>1</th>\n",
       "      <td>No</td>\n",
       "      <td>85.0</td>\n",
       "    </tr>\n",
       "    <tr>\n",
       "      <th>2</th>\n",
       "      <td>Yes</td>\n",
       "      <td>80.0</td>\n",
       "    </tr>\n",
       "    <tr>\n",
       "      <th>3</th>\n",
       "      <td>No</td>\n",
       "      <td>45.0</td>\n",
       "    </tr>\n",
       "    <tr>\n",
       "      <th>4</th>\n",
       "      <td>Yes</td>\n",
       "      <td>85.0</td>\n",
       "    </tr>\n",
       "  </tbody>\n",
       "</table>\n",
       "</div>"
      ],
      "text/plain": [
       "  Read Book  Score\n",
       "0       Yes   70.0\n",
       "1        No   85.0\n",
       "2       Yes   80.0\n",
       "3        No   45.0\n",
       "4       Yes   85.0"
      ]
     },
     "execution_count": 3,
     "metadata": {},
     "output_type": "execute_result"
    }
   ],
   "source": [
    "training = pd.concat([pd.Series(data = ['Yes', 'No','Yes', 'No','Yes', 'No','Yes', 'No','Yes', 'No','Yes', 'No','Yes', 'Yes', 'Yes', 'No','No','Yes', 'No','Yes'], name = 'Read Book'),\n",
    "                    pd.Series(data = [70,85,80,45,85,70,55,80,75,60,70,85,80,55,75,65,70], name='Score')], axis=1)\n",
    "training.head()"
   ]
  },
  {
   "cell_type": "markdown",
   "id": "ba941ae7-29d6-462d-beea-9579688ee856",
   "metadata": {},
   "source": [
    "**Ho: Median tidak baca = Median baca   \n",
    "Ha: Medain tidak baca > Median baca**"
   ]
  },
  {
   "cell_type": "code",
   "execution_count": 4,
   "id": "03137e94-6dad-4e48-94d1-129ffbcdff89",
   "metadata": {},
   "outputs": [
    {
     "name": "stdout",
     "output_type": "stream",
     "text": [
      "U-Statistic:  44.0\n",
      "P-Value:  0.6769937987072876\n"
     ]
    }
   ],
   "source": [
    "from scipy.stats import mannwhitneyu\n",
    "result = list(mannwhitneyu(training[training['Read Book'] == 'No']['Score'],\n",
    "                          training[training['Read Book'] == 'Yes']['Score'],\n",
    "                          alternative = 'greater'))\n",
    "print('U-Statistic: ', result[0])\n",
    "print('P-Value: ', result[1])"
   ]
  },
  {
   "cell_type": "code",
   "execution_count": 5,
   "id": "a22a490c-9303-4131-bfc9-9ee7be99e477",
   "metadata": {},
   "outputs": [
    {
     "data": {
      "text/html": [
       "<div>\n",
       "<style scoped>\n",
       "    .dataframe tbody tr th:only-of-type {\n",
       "        vertical-align: middle;\n",
       "    }\n",
       "\n",
       "    .dataframe tbody tr th {\n",
       "        vertical-align: top;\n",
       "    }\n",
       "\n",
       "    .dataframe thead th {\n",
       "        text-align: right;\n",
       "    }\n",
       "</style>\n",
       "<table border=\"1\" class=\"dataframe\">\n",
       "  <thead>\n",
       "    <tr style=\"text-align: right;\">\n",
       "      <th></th>\n",
       "      <th>Score</th>\n",
       "    </tr>\n",
       "    <tr>\n",
       "      <th>Read Book</th>\n",
       "      <th></th>\n",
       "    </tr>\n",
       "  </thead>\n",
       "  <tbody>\n",
       "    <tr>\n",
       "      <th>No</th>\n",
       "      <td>70.0</td>\n",
       "    </tr>\n",
       "    <tr>\n",
       "      <th>Yes</th>\n",
       "      <td>75.0</td>\n",
       "    </tr>\n",
       "  </tbody>\n",
       "</table>\n",
       "</div>"
      ],
      "text/plain": [
       "           Score\n",
       "Read Book       \n",
       "No          70.0\n",
       "Yes         75.0"
      ]
     },
     "execution_count": 5,
     "metadata": {},
     "output_type": "execute_result"
    }
   ],
   "source": [
    "training.groupby(['Read Book']).median()"
   ]
  },
  {
   "cell_type": "markdown",
   "id": "df5ed5a3-c49f-4dc3-a0fc-d8ac3aacce0e",
   "metadata": {},
   "source": [
    "# b) Wilcoxon"
   ]
  },
  {
   "cell_type": "code",
   "execution_count": 7,
   "id": "f374273f-facd-4b47-89ae-e6470b060799",
   "metadata": {},
   "outputs": [
    {
     "data": {
      "text/html": [
       "<div>\n",
       "<style scoped>\n",
       "    .dataframe tbody tr th:only-of-type {\n",
       "        vertical-align: middle;\n",
       "    }\n",
       "\n",
       "    .dataframe tbody tr th {\n",
       "        vertical-align: top;\n",
       "    }\n",
       "\n",
       "    .dataframe thead th {\n",
       "        text-align: right;\n",
       "    }\n",
       "</style>\n",
       "<table border=\"1\" class=\"dataframe\">\n",
       "  <thead>\n",
       "    <tr style=\"text-align: right;\">\n",
       "      <th></th>\n",
       "      <th>No</th>\n",
       "      <th>Yes</th>\n",
       "      <th>diff</th>\n",
       "    </tr>\n",
       "  </thead>\n",
       "  <tbody>\n",
       "    <tr>\n",
       "      <th>0</th>\n",
       "      <td>636</td>\n",
       "      <td>604</td>\n",
       "      <td>-32</td>\n",
       "    </tr>\n",
       "    <tr>\n",
       "      <th>1</th>\n",
       "      <td>623</td>\n",
       "      <td>556</td>\n",
       "      <td>-67</td>\n",
       "    </tr>\n",
       "    <tr>\n",
       "      <th>2</th>\n",
       "      <td>615</td>\n",
       "      <td>540</td>\n",
       "      <td>-75</td>\n",
       "    </tr>\n",
       "    <tr>\n",
       "      <th>3</th>\n",
       "      <td>672</td>\n",
       "      <td>522</td>\n",
       "      <td>-150</td>\n",
       "    </tr>\n",
       "    <tr>\n",
       "      <th>4</th>\n",
       "      <td>601</td>\n",
       "      <td>469</td>\n",
       "      <td>-132</td>\n",
       "    </tr>\n",
       "  </tbody>\n",
       "</table>\n",
       "</div>"
      ],
      "text/plain": [
       "    No  Yes  diff\n",
       "0  636  604   -32\n",
       "1  623  556   -67\n",
       "2  615  540   -75\n",
       "3  672  522  -150\n",
       "4  601  469  -132"
      ]
     },
     "execution_count": 7,
     "metadata": {},
     "output_type": "execute_result"
    }
   ],
   "source": [
    "using_smartphone = [604, 556, 540, 522, 469, 544, 513, 470, 556, 531, 599, 537, 619, 536, 554, 467]\n",
    "no_smartphone = [636, 623, 615, 672, 601, 600, 542, 554, 543, 520, 609, 559, 595, 565, 573, 554]\n",
    "\n",
    "df_paired = pd.DataFrame({\n",
    "    'No':no_smartphone,\n",
    "    'Yes':using_smartphone\n",
    "})\n",
    "\n",
    "df_paired['diff'] = df_paired['Yes'] - df_paired['No']\n",
    "df_paired.head()"
   ]
  },
  {
   "cell_type": "markdown",
   "id": "99ec8f41-1002-4a97-8aef-59137f24e752",
   "metadata": {},
   "source": [
    "**Ho: Median difference = 0   \n",
    "Ha: Median difference < 0**"
   ]
  },
  {
   "cell_type": "code",
   "execution_count": 9,
   "id": "5cd90d54-7847-4b90-a208-f731c6237027",
   "metadata": {},
   "outputs": [
    {
     "name": "stdout",
     "output_type": "stream",
     "text": [
      "p-value:  0.0008392333984375\n",
      "sumrank:  11.0\n"
     ]
    }
   ],
   "source": [
    "from scipy.stats import wilcoxon\n",
    "sumrank, p_value = wilcoxon(df_paired['diff'], alternative = 'less')\n",
    "print('p-value: ', p_value)\n",
    "print('sumrank: ', sumrank)"
   ]
  },
  {
   "cell_type": "markdown",
   "id": "d2a87df6-8d5a-4f7c-b806-ceba8b7dbf7d",
   "metadata": {},
   "source": [
    "# c) Kruskal Wallis"
   ]
  },
  {
   "cell_type": "code",
   "execution_count": 12,
   "id": "b893a8aa-2a67-4fe2-b5c1-c49bed60164d",
   "metadata": {},
   "outputs": [
    {
     "data": {
      "text/html": [
       "<div>\n",
       "<style scoped>\n",
       "    .dataframe tbody tr th:only-of-type {\n",
       "        vertical-align: middle;\n",
       "    }\n",
       "\n",
       "    .dataframe tbody tr th {\n",
       "        vertical-align: top;\n",
       "    }\n",
       "\n",
       "    .dataframe thead th {\n",
       "        text-align: right;\n",
       "    }\n",
       "</style>\n",
       "<table border=\"1\" class=\"dataframe\">\n",
       "  <thead>\n",
       "    <tr style=\"text-align: right;\">\n",
       "      <th></th>\n",
       "      <th>Transportation</th>\n",
       "      <th>Monthly Investment</th>\n",
       "    </tr>\n",
       "  </thead>\n",
       "  <tbody>\n",
       "    <tr>\n",
       "      <th>0</th>\n",
       "      <td>Walking</td>\n",
       "      <td>5</td>\n",
       "    </tr>\n",
       "    <tr>\n",
       "      <th>1</th>\n",
       "      <td>Walking</td>\n",
       "      <td>4</td>\n",
       "    </tr>\n",
       "    <tr>\n",
       "      <th>2</th>\n",
       "      <td>Walking</td>\n",
       "      <td>5</td>\n",
       "    </tr>\n",
       "    <tr>\n",
       "      <th>3</th>\n",
       "      <td>Walking</td>\n",
       "      <td>6</td>\n",
       "    </tr>\n",
       "    <tr>\n",
       "      <th>4</th>\n",
       "      <td>Walking</td>\n",
       "      <td>5</td>\n",
       "    </tr>\n",
       "  </tbody>\n",
       "</table>\n",
       "</div>"
      ],
      "text/plain": [
       "  Transportation  Monthly Investment\n",
       "0        Walking                   5\n",
       "1        Walking                   4\n",
       "2        Walking                   5\n",
       "3        Walking                   6\n",
       "4        Walking                   5"
      ]
     },
     "execution_count": 12,
     "metadata": {},
     "output_type": "execute_result"
    }
   ],
   "source": [
    "transport = []\n",
    "method = ['Walking ', 'Public ', 'Private ']\n",
    "for i in method:\n",
    "    transport.extend((i*10).split())\n",
    "    \n",
    "transport_df = pd.concat([pd.Series(transport, name = 'Transportation'),\n",
    "               pd.Series([5,4,5,6,5,3,2,4,5,5,7,7,5,6,4,6,5,5,6,7,5,4,5,6,6,5,5,5,7,7], name = 'Monthly Investment')], axis=1)\n",
    "transport_df.head()"
   ]
  },
  {
   "cell_type": "code",
   "execution_count": 18,
   "id": "ccf5985b-6c63-4891-9305-749efbd85039",
   "metadata": {},
   "outputs": [
    {
     "name": "stdout",
     "output_type": "stream",
     "text": [
      "Median of Monthly Investment Group Walking: 5.0\n",
      "Median of Monthly Investment Group Public: 6.0\n",
      "Median of Monthly Investment Group Private: 5.0\n"
     ]
    }
   ],
   "source": [
    "# Perbandingan Median Ketiga Variabel\n",
    "for i in transport_df['Transportation'].unique():\n",
    "    print('Median of Monthly Investment Group {}: {}'.format(i, transport_df[transport_df['Transportation'] == i]['Monthly Investment'].median()))"
   ]
  },
  {
   "cell_type": "code",
   "execution_count": 19,
   "id": "434bdf0f-6fc0-4ace-bde3-391a9738a232",
   "metadata": {},
   "outputs": [
    {
     "name": "stdout",
     "output_type": "stream",
     "text": [
      "Total Monthly Investment Median:  5.0\n"
     ]
    }
   ],
   "source": [
    "print('Total Monthly Investment Median: ', transport_df['Monthly Investment'].median())"
   ]
  },
  {
   "cell_type": "markdown",
   "id": "2d3de4a3-406f-4b3e-9ba2-26020698b663",
   "metadata": {},
   "source": [
    "**Ho: Median sama semua   \n",
    "Ha: Median ada yang tidak sama**"
   ]
  },
  {
   "cell_type": "code",
   "execution_count": 20,
   "id": "3cc59eb5-c14d-43ce-9f54-8cfa90cb1b8a",
   "metadata": {},
   "outputs": [
    {
     "data": {
      "text/plain": [
       "KruskalResult(statistic=7.01891293654697, pvalue=0.029913168775421856)"
      ]
     },
     "execution_count": 20,
     "metadata": {},
     "output_type": "execute_result"
    }
   ],
   "source": [
    "from scipy.stats import kruskal\n",
    "kruskal(transport_df[transport_df['Transportation'] == 'Walking']['Monthly Investment'],\n",
    "       transport_df[transport_df['Transportation'] == 'Public']['Monthly Investment'],\n",
    "       transport_df[transport_df['Transportation'] == 'Private']['Monthly Investment'])"
   ]
  },
  {
   "cell_type": "code",
   "execution_count": 22,
   "id": "2acbd038-bde4-4198-86bb-ff1ae1927b0e",
   "metadata": {},
   "outputs": [
    {
     "data": {
      "text/html": [
       "<div>\n",
       "<style scoped>\n",
       "    .dataframe tbody tr th:only-of-type {\n",
       "        vertical-align: middle;\n",
       "    }\n",
       "\n",
       "    .dataframe tbody tr th {\n",
       "        vertical-align: top;\n",
       "    }\n",
       "\n",
       "    .dataframe thead th {\n",
       "        text-align: right;\n",
       "    }\n",
       "</style>\n",
       "<table border=\"1\" class=\"dataframe\">\n",
       "  <thead>\n",
       "    <tr style=\"text-align: right;\">\n",
       "      <th></th>\n",
       "      <th>Monthly Investment</th>\n",
       "    </tr>\n",
       "    <tr>\n",
       "      <th>Transportation</th>\n",
       "      <th></th>\n",
       "    </tr>\n",
       "  </thead>\n",
       "  <tbody>\n",
       "    <tr>\n",
       "      <th>Private</th>\n",
       "      <td>5</td>\n",
       "    </tr>\n",
       "    <tr>\n",
       "      <th>Public</th>\n",
       "      <td>6</td>\n",
       "    </tr>\n",
       "    <tr>\n",
       "      <th>Walking</th>\n",
       "      <td>5</td>\n",
       "    </tr>\n",
       "  </tbody>\n",
       "</table>\n",
       "</div>"
      ],
      "text/plain": [
       "                Monthly Investment\n",
       "Transportation                    \n",
       "Private                          5\n",
       "Public                           6\n",
       "Walking                          5"
      ]
     },
     "execution_count": 22,
     "metadata": {},
     "output_type": "execute_result"
    }
   ],
   "source": [
    "transport_df.groupby(['Transportation']).median()"
   ]
  },
  {
   "cell_type": "code",
   "execution_count": null,
   "id": "d578f02e-2916-468e-b869-037fe1e7ad71",
   "metadata": {},
   "outputs": [],
   "source": []
  },
  {
   "cell_type": "code",
   "execution_count": null,
   "id": "9cf803b5-9fa2-4875-b567-80eab2c5471e",
   "metadata": {},
   "outputs": [],
   "source": []
  }
 ],
 "metadata": {
  "kernelspec": {
   "display_name": "Python 3",
   "language": "python",
   "name": "python3"
  },
  "language_info": {
   "codemirror_mode": {
    "name": "ipython",
    "version": 3
   },
   "file_extension": ".py",
   "mimetype": "text/x-python",
   "name": "python",
   "nbconvert_exporter": "python",
   "pygments_lexer": "ipython3",
   "version": "3.7.3"
  }
 },
 "nbformat": 4,
 "nbformat_minor": 5
}
